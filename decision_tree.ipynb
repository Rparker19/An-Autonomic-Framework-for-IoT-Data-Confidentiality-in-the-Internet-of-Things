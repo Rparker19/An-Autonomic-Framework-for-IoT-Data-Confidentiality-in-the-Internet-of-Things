{
 "cells": [
  {
   "cell_type": "code",
   "execution_count": 1,
   "metadata": {},
   "outputs": [],
   "source": [
    "import pandas as pd\n",
    "from sklearn.tree import DecisionTreeClassifier\n",
    "from sklearn.model_selection import train_test_split\n",
    "from sklearn import metrics"
   ]
  },
  {
   "cell_type": "code",
   "execution_count": 2,
   "metadata": {},
   "outputs": [
    {
     "data": {
      "text/html": [
       "<div>\n",
       "<style scoped>\n",
       "    .dataframe tbody tr th:only-of-type {\n",
       "        vertical-align: middle;\n",
       "    }\n",
       "\n",
       "    .dataframe tbody tr th {\n",
       "        vertical-align: top;\n",
       "    }\n",
       "\n",
       "    .dataframe thead th {\n",
       "        text-align: right;\n",
       "    }\n",
       "</style>\n",
       "<table border=\"1\" class=\"dataframe\">\n",
       "  <thead>\n",
       "    <tr style=\"text-align: right;\">\n",
       "      <th></th>\n",
       "      <th>0</th>\n",
       "      <th>1</th>\n",
       "      <th>2</th>\n",
       "      <th>3</th>\n",
       "      <th>4</th>\n",
       "      <th>5</th>\n",
       "      <th>6</th>\n",
       "    </tr>\n",
       "  </thead>\n",
       "  <tbody>\n",
       "    <tr>\n",
       "      <th>0</th>\n",
       "      <td>Residual_Power</td>\n",
       "      <td>Application_Type</td>\n",
       "      <td>Min_Security_Level</td>\n",
       "      <td>Max_Stack_Usage</td>\n",
       "      <td>Max_ROM</td>\n",
       "      <td>Min_Throughput</td>\n",
       "      <td>Algorithm</td>\n",
       "    </tr>\n",
       "    <tr>\n",
       "      <th>1</th>\n",
       "      <td>100.0</td>\n",
       "      <td>A</td>\n",
       "      <td>Low</td>\n",
       "      <td>300.0</td>\n",
       "      <td>17.0</td>\n",
       "      <td>10.0</td>\n",
       "      <td>Xoodyak</td>\n",
       "    </tr>\n",
       "    <tr>\n",
       "      <th>2</th>\n",
       "      <td>90.0</td>\n",
       "      <td>A</td>\n",
       "      <td>Low</td>\n",
       "      <td>300.0</td>\n",
       "      <td>17.0</td>\n",
       "      <td>10.0</td>\n",
       "      <td>Xoodyak</td>\n",
       "    </tr>\n",
       "    <tr>\n",
       "      <th>3</th>\n",
       "      <td>80.0</td>\n",
       "      <td>A</td>\n",
       "      <td>Low</td>\n",
       "      <td>300.0</td>\n",
       "      <td>17.0</td>\n",
       "      <td>10.0</td>\n",
       "      <td>Xoodyak</td>\n",
       "    </tr>\n",
       "    <tr>\n",
       "      <th>4</th>\n",
       "      <td>70.0</td>\n",
       "      <td>A</td>\n",
       "      <td>Low</td>\n",
       "      <td>300.0</td>\n",
       "      <td>17.0</td>\n",
       "      <td>10.0</td>\n",
       "      <td>Xoodyak</td>\n",
       "    </tr>\n",
       "  </tbody>\n",
       "</table>\n",
       "</div>"
      ],
      "text/plain": [
       "                0                 1                   2                3  \\\n",
       "0  Residual_Power  Application_Type  Min_Security_Level  Max_Stack_Usage   \n",
       "1           100.0                A                  Low            300.0   \n",
       "2            90.0                 A                 Low            300.0   \n",
       "3            80.0                 A                 Low            300.0   \n",
       "4            70.0                 A                 Low            300.0   \n",
       "\n",
       "         4               5          6  \n",
       "0  Max_ROM  Min_Throughput  Algorithm  \n",
       "1     17.0            10.0    Xoodyak  \n",
       "2     17.0            10.0    Xoodyak  \n",
       "3     17.0            10.0    Xoodyak  \n",
       "4     17.0            10.0    Xoodyak  "
      ]
     },
     "execution_count": 2,
     "metadata": {},
     "output_type": "execute_result"
    }
   ],
   "source": [
    "# Import data\n",
    "df=pd.read_csv(\"./dataset_expanded.csv\", header=None)\n",
    "df.head()"
   ]
  },
  {
   "cell_type": "code",
   "execution_count": 3,
   "metadata": {},
   "outputs": [
    {
     "data": {
      "text/plain": [
       "(27271, 7)"
      ]
     },
     "execution_count": 3,
     "metadata": {},
     "output_type": "execute_result"
    }
   ],
   "source": [
    "df.shape"
   ]
  },
  {
   "cell_type": "code",
   "execution_count": 4,
   "metadata": {},
   "outputs": [
    {
     "data": {
      "text/html": [
       "<div>\n",
       "<style scoped>\n",
       "    .dataframe tbody tr th:only-of-type {\n",
       "        vertical-align: middle;\n",
       "    }\n",
       "\n",
       "    .dataframe tbody tr th {\n",
       "        vertical-align: top;\n",
       "    }\n",
       "\n",
       "    .dataframe thead th {\n",
       "        text-align: right;\n",
       "    }\n",
       "</style>\n",
       "<table border=\"1\" class=\"dataframe\">\n",
       "  <thead>\n",
       "    <tr style=\"text-align: right;\">\n",
       "      <th></th>\n",
       "      <th>Residual_Power</th>\n",
       "      <th>Application_Type</th>\n",
       "      <th>Min_Security_Level</th>\n",
       "      <th>Max_Stack_Usage</th>\n",
       "      <th>Max_ROM</th>\n",
       "      <th>Min_Throughput</th>\n",
       "      <th>Algorithm</th>\n",
       "    </tr>\n",
       "  </thead>\n",
       "  <tbody>\n",
       "    <tr>\n",
       "      <th>1</th>\n",
       "      <td>100.0</td>\n",
       "      <td>A</td>\n",
       "      <td>Low</td>\n",
       "      <td>300.0</td>\n",
       "      <td>17.0</td>\n",
       "      <td>10.0</td>\n",
       "      <td>Xoodyak</td>\n",
       "    </tr>\n",
       "    <tr>\n",
       "      <th>2</th>\n",
       "      <td>90.0</td>\n",
       "      <td>A</td>\n",
       "      <td>Low</td>\n",
       "      <td>300.0</td>\n",
       "      <td>17.0</td>\n",
       "      <td>10.0</td>\n",
       "      <td>Xoodyak</td>\n",
       "    </tr>\n",
       "    <tr>\n",
       "      <th>3</th>\n",
       "      <td>80.0</td>\n",
       "      <td>A</td>\n",
       "      <td>Low</td>\n",
       "      <td>300.0</td>\n",
       "      <td>17.0</td>\n",
       "      <td>10.0</td>\n",
       "      <td>Xoodyak</td>\n",
       "    </tr>\n",
       "    <tr>\n",
       "      <th>4</th>\n",
       "      <td>70.0</td>\n",
       "      <td>A</td>\n",
       "      <td>Low</td>\n",
       "      <td>300.0</td>\n",
       "      <td>17.0</td>\n",
       "      <td>10.0</td>\n",
       "      <td>Xoodyak</td>\n",
       "    </tr>\n",
       "    <tr>\n",
       "      <th>5</th>\n",
       "      <td>60.0</td>\n",
       "      <td>A</td>\n",
       "      <td>Low</td>\n",
       "      <td>300.0</td>\n",
       "      <td>17.0</td>\n",
       "      <td>10.0</td>\n",
       "      <td>Xoodyak</td>\n",
       "    </tr>\n",
       "  </tbody>\n",
       "</table>\n",
       "</div>"
      ],
      "text/plain": [
       "0 Residual_Power Application_Type Min_Security_Level Max_Stack_Usage Max_ROM  \\\n",
       "1          100.0               A                 Low           300.0    17.0   \n",
       "2           90.0                A                Low           300.0    17.0   \n",
       "3           80.0                A                Low           300.0    17.0   \n",
       "4           70.0                A                Low           300.0    17.0   \n",
       "5           60.0                A                Low           300.0    17.0   \n",
       "\n",
       "0 Min_Throughput Algorithm  \n",
       "1           10.0   Xoodyak  \n",
       "2           10.0   Xoodyak  \n",
       "3           10.0   Xoodyak  \n",
       "4           10.0   Xoodyak  \n",
       "5           10.0   Xoodyak  "
      ]
     },
     "execution_count": 4,
     "metadata": {},
     "output_type": "execute_result"
    }
   ],
   "source": [
    "df.columns = df.iloc[0]\n",
    "df = df[1:]\n",
    "df.head()"
   ]
  },
  {
   "cell_type": "code",
   "execution_count": 5,
   "metadata": {},
   "outputs": [
    {
     "data": {
      "text/plain": [
       "0\n",
       "Residual_Power        float64\n",
       "Application_Type       object\n",
       "Min_Security_Level     object\n",
       "Max_Stack_Usage       float64\n",
       "Max_ROM               float64\n",
       "Min_Throughput        float64\n",
       "Algorithm              object\n",
       "dtype: object"
      ]
     },
     "execution_count": 5,
     "metadata": {},
     "output_type": "execute_result"
    }
   ],
   "source": [
    "df['Residual_Power'] = pd.to_numeric(df['Residual_Power'])\n",
    "df['Max_Stack_Usage'] = pd.to_numeric(df['Max_Stack_Usage'])\n",
    "df['Max_ROM'] = pd.to_numeric(df['Max_ROM'])\n",
    "df['Min_Throughput'] = pd.to_numeric(df['Min_Throughput'])\n",
    "df.dtypes"
   ]
  },
  {
   "cell_type": "code",
   "execution_count": 7,
   "metadata": {},
   "outputs": [],
   "source": [
    "# Feature selection\n",
    "X = df.drop(['Algorithm'], axis=1)\n",
    "y = df['Algorithm']"
   ]
  },
  {
   "cell_type": "code",
   "execution_count": 8,
   "metadata": {},
   "outputs": [
    {
     "data": {
      "text/plain": [
       "['Min_Security_Level']"
      ]
     },
     "execution_count": 8,
     "metadata": {},
     "output_type": "execute_result"
    }
   ],
   "source": [
    "# Split data\n",
    "X_train, X_test, y_train, y_test = train_test_split(X, y, test_size=0.3, random_state=1)\n",
    "\n",
    "object_cols = [col for col in X_train.columns if X_train[col].dtype == \"object\"]\n",
    "low_cardinality_cols = [col for col in object_cols if X_train[col].nunique() < 10]\n",
    "high_cardinality_cols = list(set(object_cols)-set(low_cardinality_cols))\n",
    "low_cardinality_cols"
   ]
  },
  {
   "cell_type": "code",
   "execution_count": 9,
   "metadata": {},
   "outputs": [
    {
     "data": {
      "text/plain": [
       "['Application_Type']"
      ]
     },
     "execution_count": 9,
     "metadata": {},
     "output_type": "execute_result"
    }
   ],
   "source": [
    "high_cardinality_cols"
   ]
  },
  {
   "cell_type": "code",
   "execution_count": 10,
   "metadata": {},
   "outputs": [],
   "source": [
    "num_X_train = X_train.select_dtypes(exclude=['object'])\n",
    "num_X_test = X_test.select_dtypes(exclude=['object'])\n",
    "\n",
    "OH_cols_train = pd.get_dummies(X_train[low_cardinality_cols],drop_first=False)\n",
    "OH_cols_test = pd.get_dummies(X_test[low_cardinality_cols],drop_first=False)\n",
    "\n",
    "X_train = pd.concat([num_X_train, OH_cols_train], axis=1)\n",
    "X_test = pd.concat([num_X_test, OH_cols_test], axis=1)"
   ]
  },
  {
   "cell_type": "code",
   "execution_count": 11,
   "metadata": {},
   "outputs": [
    {
     "data": {
      "text/plain": [
       "array(['Xoodyak', 'TinyJAMBU', 'ASCON', ..., 'PHOTON-Beetle', 'SPARKLE',\n",
       "       'PHOTON-Beetle'], shape=(8181,), dtype=object)"
      ]
     },
     "execution_count": 11,
     "metadata": {},
     "output_type": "execute_result"
    }
   ],
   "source": [
    "# Create the model\n",
    "dtc = DecisionTreeClassifier() # optimization would happen here\n",
    "dtc = dtc.fit(X_train, y_train)\n",
    "y_predict = dtc.predict(X_test)\n",
    "y_predict"
   ]
  },
  {
   "cell_type": "code",
   "execution_count": 12,
   "metadata": {},
   "outputs": [
    {
     "name": "stdout",
     "output_type": "stream",
     "text": [
      "Accuracy of decision tree model is  0.5522552255225522\n",
      "F1 Score is  0.5520614604200348\n"
     ]
    }
   ],
   "source": [
    "# Accuracy\n",
    "print(\"Accuracy of decision tree model is \", metrics.accuracy_score(y_test, y_predict))\n",
    "print(\"F1 Score is \", metrics.f1_score(y_predict, y_test, average=\"weighted\"))"
   ]
  },
  {
   "cell_type": "code",
   "execution_count": 13,
   "metadata": {},
   "outputs": [
    {
     "data": {
      "text/plain": [
       "<sklearn.metrics._plot.confusion_matrix.ConfusionMatrixDisplay at 0x14a802de0>"
      ]
     },
     "execution_count": 13,
     "metadata": {},
     "output_type": "execute_result"
    },
    {
     "data": {
      "image/png": "[encoded data removed]",
      "text/plain": [
       "<Figure size 640x480 with 2 Axes>"
      ]
     },
     "metadata": {},
     "output_type": "display_data"
    }
   ],
   "source": [
    "# Confusion matrix\n",
    "cm = metrics.confusion_matrix(y_test, y_predict)\n",
    "display = metrics.ConfusionMatrixDisplay(confusion_matrix=cm, display_labels=dtc.classes_)\n",
    "display.plot(xticks_rotation='vertical')"
   ]
  }
 ],
 "metadata": {
  "kernelspec": {
   "display_name": "Python 3",
   "language": "python",
   "name": "python3"
  },
  "language_info": {
   "codemirror_mode": {
    "name": "ipython",
    "version": 3
   },
   "file_extension": ".py",
   "mimetype": "text/x-python",
   "name": "python",
   "nbconvert_exporter": "python",
   "pygments_lexer": "ipython3",
   "version": "3.12.0"
  }
 },
 "nbformat": 4,
 "nbformat_minor": 2
}
