{
 "cells": [
  {
   "cell_type": "code",
   "execution_count": 1,
   "metadata": {},
   "outputs": [],
   "source": [
    "import numpy as np\n",
    "import pandas as pd\n",
    "import warnings\n",
    "warnings.filterwarnings(\"ignore\")"
   ]
  },
  {
   "cell_type": "code",
   "execution_count": 2,
   "metadata": {},
   "outputs": [],
   "source": [
    "data = './NewDataset.csv'\n",
    "df = pd.read_csv(data, header=None)"
   ]
  },
  {
   "cell_type": "code",
   "execution_count": 3,
   "metadata": {},
   "outputs": [
    {
     "data": {
      "text/plain": [
       "(270, 7)"
      ]
     },
     "execution_count": 3,
     "metadata": {},
     "output_type": "execute_result"
    }
   ],
   "source": [
    "df.shape"
   ]
  },
  {
   "cell_type": "code",
   "execution_count": 4,
   "metadata": {},
   "outputs": [
    {
     "data": {
      "text/html": [
       "<div>\n",
       "<style scoped>\n",
       "    .dataframe tbody tr th:only-of-type {\n",
       "        vertical-align: middle;\n",
       "    }\n",
       "\n",
       "    .dataframe tbody tr th {\n",
       "        vertical-align: top;\n",
       "    }\n",
       "\n",
       "    .dataframe thead th {\n",
       "        text-align: right;\n",
       "    }\n",
       "</style>\n",
       "<table border=\"1\" class=\"dataframe\">\n",
       "  <thead>\n",
       "    <tr style=\"text-align: right;\">\n",
       "      <th></th>\n",
       "      <th>0</th>\n",
       "      <th>1</th>\n",
       "      <th>2</th>\n",
       "      <th>3</th>\n",
       "      <th>4</th>\n",
       "      <th>5</th>\n",
       "      <th>6</th>\n",
       "    </tr>\n",
       "  </thead>\n",
       "  <tbody>\n",
       "    <tr>\n",
       "      <th>0</th>\n",
       "      <td>100</td>\n",
       "      <td>A</td>\n",
       "      <td>Low</td>\n",
       "      <td>300</td>\n",
       "      <td>17</td>\n",
       "      <td>10</td>\n",
       "      <td>Xoodyak</td>\n",
       "    </tr>\n",
       "    <tr>\n",
       "      <th>1</th>\n",
       "      <td>90</td>\n",
       "      <td>A</td>\n",
       "      <td>Low</td>\n",
       "      <td>300</td>\n",
       "      <td>17</td>\n",
       "      <td>10</td>\n",
       "      <td>Xoodyak</td>\n",
       "    </tr>\n",
       "    <tr>\n",
       "      <th>2</th>\n",
       "      <td>80</td>\n",
       "      <td>A</td>\n",
       "      <td>Low</td>\n",
       "      <td>300</td>\n",
       "      <td>17</td>\n",
       "      <td>10</td>\n",
       "      <td>Xoodyak</td>\n",
       "    </tr>\n",
       "    <tr>\n",
       "      <th>3</th>\n",
       "      <td>70</td>\n",
       "      <td>A</td>\n",
       "      <td>Low</td>\n",
       "      <td>300</td>\n",
       "      <td>17</td>\n",
       "      <td>10</td>\n",
       "      <td>Xoodyak</td>\n",
       "    </tr>\n",
       "    <tr>\n",
       "      <th>4</th>\n",
       "      <td>60</td>\n",
       "      <td>A</td>\n",
       "      <td>Low</td>\n",
       "      <td>300</td>\n",
       "      <td>17</td>\n",
       "      <td>10</td>\n",
       "      <td>Xoodyak</td>\n",
       "    </tr>\n",
       "  </tbody>\n",
       "</table>\n",
       "</div>"
      ],
      "text/plain": [
       "     0   1    2    3   4   5        6\n",
       "0  100  A   Low  300  17  10  Xoodyak\n",
       "1   90   A  Low  300  17  10  Xoodyak\n",
       "2   80   A  Low  300  17  10  Xoodyak\n",
       "3   70   A  Low  300  17  10  Xoodyak\n",
       "4   60   A  Low  300  17  10  Xoodyak"
      ]
     },
     "execution_count": 4,
     "metadata": {},
     "output_type": "execute_result"
    }
   ],
   "source": [
    "df.head()"
   ]
  },
  {
   "cell_type": "code",
   "execution_count": 5,
   "metadata": {},
   "outputs": [
    {
     "data": {
      "text/html": [
       "<div>\n",
       "<style scoped>\n",
       "    .dataframe tbody tr th:only-of-type {\n",
       "        vertical-align: middle;\n",
       "    }\n",
       "\n",
       "    .dataframe tbody tr th {\n",
       "        vertical-align: top;\n",
       "    }\n",
       "\n",
       "    .dataframe thead th {\n",
       "        text-align: right;\n",
       "    }\n",
       "</style>\n",
       "<table border=\"1\" class=\"dataframe\">\n",
       "  <thead>\n",
       "    <tr style=\"text-align: right;\">\n",
       "      <th></th>\n",
       "      <th>Residual_Power</th>\n",
       "      <th>Application_Type</th>\n",
       "      <th>Min_Security_Level</th>\n",
       "      <th>Max_Stack_Usage</th>\n",
       "      <th>Max_ROM</th>\n",
       "      <th>Min_Throughput</th>\n",
       "      <th>Algorithm</th>\n",
       "    </tr>\n",
       "  </thead>\n",
       "  <tbody>\n",
       "    <tr>\n",
       "      <th>0</th>\n",
       "      <td>100</td>\n",
       "      <td>A</td>\n",
       "      <td>Low</td>\n",
       "      <td>300</td>\n",
       "      <td>17</td>\n",
       "      <td>10</td>\n",
       "      <td>Xoodyak</td>\n",
       "    </tr>\n",
       "    <tr>\n",
       "      <th>1</th>\n",
       "      <td>90</td>\n",
       "      <td>A</td>\n",
       "      <td>Low</td>\n",
       "      <td>300</td>\n",
       "      <td>17</td>\n",
       "      <td>10</td>\n",
       "      <td>Xoodyak</td>\n",
       "    </tr>\n",
       "    <tr>\n",
       "      <th>2</th>\n",
       "      <td>80</td>\n",
       "      <td>A</td>\n",
       "      <td>Low</td>\n",
       "      <td>300</td>\n",
       "      <td>17</td>\n",
       "      <td>10</td>\n",
       "      <td>Xoodyak</td>\n",
       "    </tr>\n",
       "    <tr>\n",
       "      <th>3</th>\n",
       "      <td>70</td>\n",
       "      <td>A</td>\n",
       "      <td>Low</td>\n",
       "      <td>300</td>\n",
       "      <td>17</td>\n",
       "      <td>10</td>\n",
       "      <td>Xoodyak</td>\n",
       "    </tr>\n",
       "    <tr>\n",
       "      <th>4</th>\n",
       "      <td>60</td>\n",
       "      <td>A</td>\n",
       "      <td>Low</td>\n",
       "      <td>300</td>\n",
       "      <td>17</td>\n",
       "      <td>10</td>\n",
       "      <td>Xoodyak</td>\n",
       "    </tr>\n",
       "  </tbody>\n",
       "</table>\n",
       "</div>"
      ],
      "text/plain": [
       "   Residual_Power Application_Type Min_Security_Level  Max_Stack_Usage  \\\n",
       "0             100               A                 Low              300   \n",
       "1              90                A                Low              300   \n",
       "2              80                A                Low              300   \n",
       "3              70                A                Low              300   \n",
       "4              60                A                Low              300   \n",
       "\n",
       "   Max_ROM  Min_Throughput Algorithm  \n",
       "0       17              10   Xoodyak  \n",
       "1       17              10   Xoodyak  \n",
       "2       17              10   Xoodyak  \n",
       "3       17              10   Xoodyak  \n",
       "4       17              10   Xoodyak  "
      ]
     },
     "execution_count": 5,
     "metadata": {},
     "output_type": "execute_result"
    }
   ],
   "source": [
    "col_names = ['Residual_Power', 'Application_Type', 'Min_Security_Level', 'Max_Stack_Usage', 'Max_ROM', 'Min_Throughput', 'Algorithm']\n",
    "df.columns = col_names\n",
    "df.head()"
   ]
  },
  {
   "cell_type": "code",
   "execution_count": 6,
   "metadata": {},
   "outputs": [
    {
     "name": "stdout",
     "output_type": "stream",
     "text": [
      "Residual_Power\n",
      "100    27\n",
      "90     27\n",
      "80     27\n",
      "70     27\n",
      "60     27\n",
      "50     27\n",
      "40     27\n",
      "30     27\n",
      "20     27\n",
      "10     27\n",
      "Name: count, dtype: int64\n",
      "Application_Type\n",
      "N     10\n",
      "O     10\n",
      "Z     10\n",
      "Y     10\n",
      "X     10\n",
      "W     10\n",
      "V     10\n",
      "U     10\n",
      "T     10\n",
      "S     10\n",
      "R     10\n",
      "Q     10\n",
      "P     10\n",
      "AA    10\n",
      "M     10\n",
      "L     10\n",
      "K     10\n",
      "J     10\n",
      "I     10\n",
      "H     10\n",
      "G     10\n",
      "F     10\n",
      "E     10\n",
      "D     10\n",
      "C     10\n",
      "B     10\n",
      "A      9\n",
      "A      1\n",
      "Name: count, dtype: int64\n",
      "Min_Security_Level\n",
      "Low       90\n",
      "Medium    90\n",
      "High      90\n",
      "Name: count, dtype: int64\n",
      "Max_Stack_Usage\n",
      "300    90\n",
      "400    90\n",
      "500    90\n",
      "Name: count, dtype: int64\n",
      "Max_ROM\n",
      "17    90\n",
      "20    90\n",
      "35    90\n",
      "Name: count, dtype: int64\n",
      "Min_Throughput\n",
      "10      90\n",
      "200     90\n",
      "1000    90\n",
      "Name: count, dtype: int64\n",
      "Algorithm\n",
      "Xoodyak          110\n",
      "ISAP              55\n",
      "ASCON             27\n",
      "TinyJAMBU         20\n",
      "SPARKLE           18\n",
      "GIFT-COFB         15\n",
      "Grain128-AEAD     11\n",
      "Romulus            9\n",
      "PHOTON-Beetle      5\n",
      "Name: count, dtype: int64\n"
     ]
    }
   ],
   "source": [
    "for col in col_names:\n",
    "    print(df[col].value_counts())"
   ]
  },
  {
   "cell_type": "code",
   "execution_count": 7,
   "metadata": {},
   "outputs": [
    {
     "data": {
      "text/plain": [
       "Algorithm\n",
       "Xoodyak          110\n",
       "ISAP              55\n",
       "ASCON             27\n",
       "TinyJAMBU         20\n",
       "SPARKLE           18\n",
       "GIFT-COFB         15\n",
       "Grain128-AEAD     11\n",
       "Romulus            9\n",
       "PHOTON-Beetle      5\n",
       "Name: count, dtype: int64"
      ]
     },
     "execution_count": 7,
     "metadata": {},
     "output_type": "execute_result"
    }
   ],
   "source": [
    "df['Algorithm'].value_counts()"
   ]
  },
  {
   "cell_type": "code",
   "execution_count": 8,
   "metadata": {},
   "outputs": [
    {
     "data": {
      "text/plain": [
       "Residual_Power        0\n",
       "Application_Type      0\n",
       "Min_Security_Level    0\n",
       "Max_Stack_Usage       0\n",
       "Max_ROM               0\n",
       "Min_Throughput        0\n",
       "Algorithm             0\n",
       "dtype: int64"
      ]
     },
     "execution_count": 8,
     "metadata": {},
     "output_type": "execute_result"
    }
   ],
   "source": [
    "df.isnull().sum()"
   ]
  },
  {
   "cell_type": "code",
   "execution_count": 9,
   "metadata": {},
   "outputs": [],
   "source": [
    "df_new = pd.DataFrame()"
   ]
  },
  {
   "cell_type": "code",
   "execution_count": 10,
   "metadata": {},
   "outputs": [],
   "source": [
    "from numpy import random\n",
    "\n",
    "for row in df.itertuples():\n",
    "    end_energy = row.Residual_Power\n",
    "    end_throughput = row.Min_Throughput\n",
    "    begin_ram = row.Max_Stack_Usage\n",
    "    begin_rom = row.Max_ROM\n",
    "    for _ in range(100):\n",
    "        rand_energy = random.uniform(end_energy-10, end_energy)\n",
    "        rand_ram = random.uniform(begin_ram, begin_ram+100)\n",
    "        rand_rom = random.uniform(begin_rom, begin_rom+100)\n",
    "        rand_throughput = random.uniform(end_throughput - 200000, end_throughput)\n",
    "        # random other variables?\n",
    "        new_row = {'Residual_Power':rand_energy,\n",
    "                   'Application_Type':row.Application_Type,\n",
    "                   'Min_Security_Level':row.Min_Security_Level,\n",
    "                   'Max_Stack_Usage':rand_ram,\n",
    "                   'Max_ROM':rand_rom,\n",
    "                   'Min_Throughput':rand_throughput,\n",
    "                   'Algorithm':row.Algorithm}\n",
    "        df_new = pd.concat([df_new, pd.DataFrame([new_row])], ignore_index=True)\n"
   ]
  },
  {
   "cell_type": "code",
   "execution_count": 11,
   "metadata": {},
   "outputs": [
    {
     "data": {
      "text/html": [
       "<div>\n",
       "<style scoped>\n",
       "    .dataframe tbody tr th:only-of-type {\n",
       "        vertical-align: middle;\n",
       "    }\n",
       "\n",
       "    .dataframe tbody tr th {\n",
       "        vertical-align: top;\n",
       "    }\n",
       "\n",
       "    .dataframe thead th {\n",
       "        text-align: right;\n",
       "    }\n",
       "</style>\n",
       "<table border=\"1\" class=\"dataframe\">\n",
       "  <thead>\n",
       "    <tr style=\"text-align: right;\">\n",
       "      <th></th>\n",
       "      <th>Residual_Power</th>\n",
       "      <th>Application_Type</th>\n",
       "      <th>Min_Security_Level</th>\n",
       "      <th>Max_Stack_Usage</th>\n",
       "      <th>Max_ROM</th>\n",
       "      <th>Min_Throughput</th>\n",
       "      <th>Algorithm</th>\n",
       "    </tr>\n",
       "  </thead>\n",
       "  <tbody>\n",
       "    <tr>\n",
       "      <th>0</th>\n",
       "      <td>90.123347</td>\n",
       "      <td>A</td>\n",
       "      <td>Low</td>\n",
       "      <td>378.772528</td>\n",
       "      <td>60.669399</td>\n",
       "      <td>-11832.396501</td>\n",
       "      <td>Xoodyak</td>\n",
       "    </tr>\n",
       "    <tr>\n",
       "      <th>1</th>\n",
       "      <td>91.602455</td>\n",
       "      <td>A</td>\n",
       "      <td>Low</td>\n",
       "      <td>355.495352</td>\n",
       "      <td>106.221501</td>\n",
       "      <td>-90501.642149</td>\n",
       "      <td>Xoodyak</td>\n",
       "    </tr>\n",
       "    <tr>\n",
       "      <th>2</th>\n",
       "      <td>90.175968</td>\n",
       "      <td>A</td>\n",
       "      <td>Low</td>\n",
       "      <td>300.325091</td>\n",
       "      <td>71.392090</td>\n",
       "      <td>-129635.731740</td>\n",
       "      <td>Xoodyak</td>\n",
       "    </tr>\n",
       "    <tr>\n",
       "      <th>3</th>\n",
       "      <td>99.149473</td>\n",
       "      <td>A</td>\n",
       "      <td>Low</td>\n",
       "      <td>364.640146</td>\n",
       "      <td>59.061440</td>\n",
       "      <td>-93868.694167</td>\n",
       "      <td>Xoodyak</td>\n",
       "    </tr>\n",
       "    <tr>\n",
       "      <th>4</th>\n",
       "      <td>90.008425</td>\n",
       "      <td>A</td>\n",
       "      <td>Low</td>\n",
       "      <td>315.032287</td>\n",
       "      <td>22.086992</td>\n",
       "      <td>-12306.098255</td>\n",
       "      <td>Xoodyak</td>\n",
       "    </tr>\n",
       "    <tr>\n",
       "      <th>...</th>\n",
       "      <td>...</td>\n",
       "      <td>...</td>\n",
       "      <td>...</td>\n",
       "      <td>...</td>\n",
       "      <td>...</td>\n",
       "      <td>...</td>\n",
       "      <td>...</td>\n",
       "    </tr>\n",
       "    <tr>\n",
       "      <th>26995</th>\n",
       "      <td>9.467487</td>\n",
       "      <td>AA</td>\n",
       "      <td>High</td>\n",
       "      <td>507.538213</td>\n",
       "      <td>132.883789</td>\n",
       "      <td>-58486.621416</td>\n",
       "      <td>ASCON</td>\n",
       "    </tr>\n",
       "    <tr>\n",
       "      <th>26996</th>\n",
       "      <td>3.381402</td>\n",
       "      <td>AA</td>\n",
       "      <td>High</td>\n",
       "      <td>583.162434</td>\n",
       "      <td>55.785153</td>\n",
       "      <td>-20961.336899</td>\n",
       "      <td>ASCON</td>\n",
       "    </tr>\n",
       "    <tr>\n",
       "      <th>26997</th>\n",
       "      <td>1.798900</td>\n",
       "      <td>AA</td>\n",
       "      <td>High</td>\n",
       "      <td>548.553898</td>\n",
       "      <td>36.853259</td>\n",
       "      <td>-111018.186426</td>\n",
       "      <td>ASCON</td>\n",
       "    </tr>\n",
       "    <tr>\n",
       "      <th>26998</th>\n",
       "      <td>6.682905</td>\n",
       "      <td>AA</td>\n",
       "      <td>High</td>\n",
       "      <td>594.085960</td>\n",
       "      <td>113.250459</td>\n",
       "      <td>-173037.400430</td>\n",
       "      <td>ASCON</td>\n",
       "    </tr>\n",
       "    <tr>\n",
       "      <th>26999</th>\n",
       "      <td>7.732281</td>\n",
       "      <td>AA</td>\n",
       "      <td>High</td>\n",
       "      <td>584.622918</td>\n",
       "      <td>43.718843</td>\n",
       "      <td>-141497.792704</td>\n",
       "      <td>ASCON</td>\n",
       "    </tr>\n",
       "  </tbody>\n",
       "</table>\n",
       "<p>27000 rows × 7 columns</p>\n",
       "</div>"
      ],
      "text/plain": [
       "       Residual_Power Application_Type Min_Security_Level  Max_Stack_Usage  \\\n",
       "0           90.123347               A                 Low       378.772528   \n",
       "1           91.602455               A                 Low       355.495352   \n",
       "2           90.175968               A                 Low       300.325091   \n",
       "3           99.149473               A                 Low       364.640146   \n",
       "4           90.008425               A                 Low       315.032287   \n",
       "...               ...              ...                ...              ...   \n",
       "26995        9.467487               AA               High       507.538213   \n",
       "26996        3.381402               AA               High       583.162434   \n",
       "26997        1.798900               AA               High       548.553898   \n",
       "26998        6.682905               AA               High       594.085960   \n",
       "26999        7.732281               AA               High       584.622918   \n",
       "\n",
       "          Max_ROM  Min_Throughput Algorithm  \n",
       "0       60.669399   -11832.396501   Xoodyak  \n",
       "1      106.221501   -90501.642149   Xoodyak  \n",
       "2       71.392090  -129635.731740   Xoodyak  \n",
       "3       59.061440   -93868.694167   Xoodyak  \n",
       "4       22.086992   -12306.098255   Xoodyak  \n",
       "...           ...             ...       ...  \n",
       "26995  132.883789   -58486.621416     ASCON  \n",
       "26996   55.785153   -20961.336899     ASCON  \n",
       "26997   36.853259  -111018.186426     ASCON  \n",
       "26998  113.250459  -173037.400430     ASCON  \n",
       "26999   43.718843  -141497.792704     ASCON  \n",
       "\n",
       "[27000 rows x 7 columns]"
      ]
     },
     "execution_count": 11,
     "metadata": {},
     "output_type": "execute_result"
    }
   ],
   "source": [
    "df_new"
   ]
  },
  {
   "cell_type": "code",
   "execution_count": 12,
   "metadata": {},
   "outputs": [],
   "source": [
    "df = pd.concat([df, df_new], ignore_index=True)"
   ]
  },
  {
   "cell_type": "code",
   "execution_count": 13,
   "metadata": {},
   "outputs": [
    {
     "data": {
      "text/plain": [
       "(27270, 7)"
      ]
     },
     "execution_count": 13,
     "metadata": {},
     "output_type": "execute_result"
    }
   ],
   "source": [
    "df.shape"
   ]
  },
  {
   "cell_type": "code",
   "execution_count": 14,
   "metadata": {},
   "outputs": [
    {
     "data": {
      "text/plain": [
       "Residual_Power        0\n",
       "Application_Type      0\n",
       "Min_Security_Level    0\n",
       "Max_Stack_Usage       0\n",
       "Max_ROM               0\n",
       "Min_Throughput        0\n",
       "Algorithm             0\n",
       "dtype: int64"
      ]
     },
     "execution_count": 14,
     "metadata": {},
     "output_type": "execute_result"
    }
   ],
   "source": [
    "df.isnull().sum()"
   ]
  },
  {
   "cell_type": "code",
   "execution_count": 15,
   "metadata": {},
   "outputs": [
    {
     "name": "stdout",
     "output_type": "stream",
     "text": [
      "None\n"
     ]
    }
   ],
   "source": [
    "print(df.to_csv(\"dataset_expanded.csv\", encoding='utf-8', index=False))"
   ]
  }
 ],
 "metadata": {
  "kernelspec": {
   "display_name": "Python 3",
   "language": "python",
   "name": "python3"
  },
  "language_info": {
   "codemirror_mode": {
    "name": "ipython",
    "version": 3
   },
   "file_extension": ".py",
   "mimetype": "text/x-python",
   "name": "python",
   "nbconvert_exporter": "python",
   "pygments_lexer": "ipython3",
   "version": "3.12.0"
  }
 },
 "nbformat": 4,
 "nbformat_minor": 2
}
