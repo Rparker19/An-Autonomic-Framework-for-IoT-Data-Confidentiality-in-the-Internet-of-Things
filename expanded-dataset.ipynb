{
 "cells": [
  {
   "cell_type": "code",
   "execution_count": 1,
   "metadata": {},
   "outputs": [],
   "source": [
    "import numpy as np\n",
    "import pandas as pd\n",
    "import warnings\n",
    "warnings.filterwarnings(\"ignore\")"
   ]
  },
  {
   "cell_type": "code",
   "execution_count": 2,
   "metadata": {},
   "outputs": [],
   "source": [
    "data = './NewDataset.csv'\n",
    "df = pd.read_csv(data, header=None)"
   ]
  },
  {
   "cell_type": "code",
   "execution_count": 3,
   "metadata": {},
   "outputs": [
    {
     "data": {
      "text/plain": [
       "(270, 7)"
      ]
     },
     "execution_count": 3,
     "metadata": {},
     "output_type": "execute_result"
    }
   ],
   "source": [
    "df.shape"
   ]
  },
  {
   "cell_type": "code",
   "execution_count": 4,
   "metadata": {},
   "outputs": [
    {
     "data": {
      "text/html": [
       "<div>\n",
       "<style scoped>\n",
       "    .dataframe tbody tr th:only-of-type {\n",
       "        vertical-align: middle;\n",
       "    }\n",
       "\n",
       "    .dataframe tbody tr th {\n",
       "        vertical-align: top;\n",
       "    }\n",
       "\n",
       "    .dataframe thead th {\n",
       "        text-align: right;\n",
       "    }\n",
       "</style>\n",
       "<table border=\"1\" class=\"dataframe\">\n",
       "  <thead>\n",
       "    <tr style=\"text-align: right;\">\n",
       "      <th></th>\n",
       "      <th>0</th>\n",
       "      <th>1</th>\n",
       "      <th>2</th>\n",
       "      <th>3</th>\n",
       "      <th>4</th>\n",
       "      <th>5</th>\n",
       "      <th>6</th>\n",
       "    </tr>\n",
       "  </thead>\n",
       "  <tbody>\n",
       "    <tr>\n",
       "      <th>0</th>\n",
       "      <td>100</td>\n",
       "      <td>A</td>\n",
       "      <td>Low</td>\n",
       "      <td>300</td>\n",
       "      <td>17</td>\n",
       "      <td>10</td>\n",
       "      <td>Xoodyak</td>\n",
       "    </tr>\n",
       "    <tr>\n",
       "      <th>1</th>\n",
       "      <td>90</td>\n",
       "      <td>A</td>\n",
       "      <td>Low</td>\n",
       "      <td>300</td>\n",
       "      <td>17</td>\n",
       "      <td>10</td>\n",
       "      <td>Xoodyak</td>\n",
       "    </tr>\n",
       "    <tr>\n",
       "      <th>2</th>\n",
       "      <td>80</td>\n",
       "      <td>A</td>\n",
       "      <td>Low</td>\n",
       "      <td>300</td>\n",
       "      <td>17</td>\n",
       "      <td>10</td>\n",
       "      <td>Xoodyak</td>\n",
       "    </tr>\n",
       "    <tr>\n",
       "      <th>3</th>\n",
       "      <td>70</td>\n",
       "      <td>A</td>\n",
       "      <td>Low</td>\n",
       "      <td>300</td>\n",
       "      <td>17</td>\n",
       "      <td>10</td>\n",
       "      <td>Xoodyak</td>\n",
       "    </tr>\n",
       "    <tr>\n",
       "      <th>4</th>\n",
       "      <td>60</td>\n",
       "      <td>A</td>\n",
       "      <td>Low</td>\n",
       "      <td>300</td>\n",
       "      <td>17</td>\n",
       "      <td>10</td>\n",
       "      <td>Xoodyak</td>\n",
       "    </tr>\n",
       "  </tbody>\n",
       "</table>\n",
       "</div>"
      ],
      "text/plain": [
       "     0   1    2    3   4   5        6\n",
       "0  100  A   Low  300  17  10  Xoodyak\n",
       "1   90   A  Low  300  17  10  Xoodyak\n",
       "2   80   A  Low  300  17  10  Xoodyak\n",
       "3   70   A  Low  300  17  10  Xoodyak\n",
       "4   60   A  Low  300  17  10  Xoodyak"
      ]
     },
     "execution_count": 4,
     "metadata": {},
     "output_type": "execute_result"
    }
   ],
   "source": [
    "df.head()"
   ]
  },
  {
   "cell_type": "code",
   "execution_count": 5,
   "metadata": {},
   "outputs": [
    {
     "data": {
      "text/html": [
       "<div>\n",
       "<style scoped>\n",
       "    .dataframe tbody tr th:only-of-type {\n",
       "        vertical-align: middle;\n",
       "    }\n",
       "\n",
       "    .dataframe tbody tr th {\n",
       "        vertical-align: top;\n",
       "    }\n",
       "\n",
       "    .dataframe thead th {\n",
       "        text-align: right;\n",
       "    }\n",
       "</style>\n",
       "<table border=\"1\" class=\"dataframe\">\n",
       "  <thead>\n",
       "    <tr style=\"text-align: right;\">\n",
       "      <th></th>\n",
       "      <th>Residual_Power</th>\n",
       "      <th>Application_Type</th>\n",
       "      <th>Min_Security_Level</th>\n",
       "      <th>Max_Stack_Usage</th>\n",
       "      <th>Max_ROM</th>\n",
       "      <th>Min_Throughput</th>\n",
       "      <th>Algorithm</th>\n",
       "    </tr>\n",
       "  </thead>\n",
       "  <tbody>\n",
       "    <tr>\n",
       "      <th>0</th>\n",
       "      <td>100</td>\n",
       "      <td>A</td>\n",
       "      <td>Low</td>\n",
       "      <td>300</td>\n",
       "      <td>17</td>\n",
       "      <td>10</td>\n",
       "      <td>Xoodyak</td>\n",
       "    </tr>\n",
       "    <tr>\n",
       "      <th>1</th>\n",
       "      <td>90</td>\n",
       "      <td>A</td>\n",
       "      <td>Low</td>\n",
       "      <td>300</td>\n",
       "      <td>17</td>\n",
       "      <td>10</td>\n",
       "      <td>Xoodyak</td>\n",
       "    </tr>\n",
       "    <tr>\n",
       "      <th>2</th>\n",
       "      <td>80</td>\n",
       "      <td>A</td>\n",
       "      <td>Low</td>\n",
       "      <td>300</td>\n",
       "      <td>17</td>\n",
       "      <td>10</td>\n",
       "      <td>Xoodyak</td>\n",
       "    </tr>\n",
       "    <tr>\n",
       "      <th>3</th>\n",
       "      <td>70</td>\n",
       "      <td>A</td>\n",
       "      <td>Low</td>\n",
       "      <td>300</td>\n",
       "      <td>17</td>\n",
       "      <td>10</td>\n",
       "      <td>Xoodyak</td>\n",
       "    </tr>\n",
       "    <tr>\n",
       "      <th>4</th>\n",
       "      <td>60</td>\n",
       "      <td>A</td>\n",
       "      <td>Low</td>\n",
       "      <td>300</td>\n",
       "      <td>17</td>\n",
       "      <td>10</td>\n",
       "      <td>Xoodyak</td>\n",
       "    </tr>\n",
       "  </tbody>\n",
       "</table>\n",
       "</div>"
      ],
      "text/plain": [
       "   Residual_Power Application_Type Min_Security_Level  Max_Stack_Usage  \\\n",
       "0             100               A                 Low              300   \n",
       "1              90                A                Low              300   \n",
       "2              80                A                Low              300   \n",
       "3              70                A                Low              300   \n",
       "4              60                A                Low              300   \n",
       "\n",
       "   Max_ROM  Min_Throughput Algorithm  \n",
       "0       17              10   Xoodyak  \n",
       "1       17              10   Xoodyak  \n",
       "2       17              10   Xoodyak  \n",
       "3       17              10   Xoodyak  \n",
       "4       17              10   Xoodyak  "
      ]
     },
     "execution_count": 5,
     "metadata": {},
     "output_type": "execute_result"
    }
   ],
   "source": [
    "col_names = ['Residual_Power', 'Application_Type', 'Min_Security_Level', 'Max_Stack_Usage', 'Max_ROM', 'Min_Throughput', 'Algorithm']\n",
    "df.columns = col_names\n",
    "df.head()"
   ]
  },
  {
   "cell_type": "code",
   "execution_count": 6,
   "metadata": {},
   "outputs": [
    {
     "name": "stdout",
     "output_type": "stream",
     "text": [
      "Residual_Power\n",
      "100    27\n",
      "90     27\n",
      "80     27\n",
      "70     27\n",
      "60     27\n",
      "50     27\n",
      "40     27\n",
      "30     27\n",
      "20     27\n",
      "10     27\n",
      "Name: count, dtype: int64\n",
      "Application_Type\n",
      "N     10\n",
      "O     10\n",
      "Z     10\n",
      "Y     10\n",
      "X     10\n",
      "W     10\n",
      "V     10\n",
      "U     10\n",
      "T     10\n",
      "S     10\n",
      "R     10\n",
      "Q     10\n",
      "P     10\n",
      "AA    10\n",
      "M     10\n",
      "L     10\n",
      "K     10\n",
      "J     10\n",
      "I     10\n",
      "H     10\n",
      "G     10\n",
      "F     10\n",
      "E     10\n",
      "D     10\n",
      "C     10\n",
      "B     10\n",
      "A      9\n",
      "A      1\n",
      "Name: count, dtype: int64\n",
      "Min_Security_Level\n",
      "Low       90\n",
      "Medium    90\n",
      "High      90\n",
      "Name: count, dtype: int64\n",
      "Max_Stack_Usage\n",
      "300    90\n",
      "400    90\n",
      "500    90\n",
      "Name: count, dtype: int64\n",
      "Max_ROM\n",
      "17    90\n",
      "20    90\n",
      "35    90\n",
      "Name: count, dtype: int64\n",
      "Min_Throughput\n",
      "10      90\n",
      "200     90\n",
      "1000    90\n",
      "Name: count, dtype: int64\n",
      "Algorithm\n",
      "Xoodyak          110\n",
      "ISAP              55\n",
      "ASCON             27\n",
      "TinyJAMBU         20\n",
      "SPARKLE           18\n",
      "GIFT-COFB         15\n",
      "Grain128-AEAD     11\n",
      "Romulus            9\n",
      "PHOTON-Beetle      5\n",
      "Name: count, dtype: int64\n"
     ]
    }
   ],
   "source": [
    "for col in col_names:\n",
    "    print(df[col].value_counts())"
   ]
  },
  {
   "cell_type": "code",
   "execution_count": 7,
   "metadata": {},
   "outputs": [
    {
     "data": {
      "text/plain": [
       "Algorithm\n",
       "Xoodyak          110\n",
       "ISAP              55\n",
       "ASCON             27\n",
       "TinyJAMBU         20\n",
       "SPARKLE           18\n",
       "GIFT-COFB         15\n",
       "Grain128-AEAD     11\n",
       "Romulus            9\n",
       "PHOTON-Beetle      5\n",
       "Name: count, dtype: int64"
      ]
     },
     "execution_count": 7,
     "metadata": {},
     "output_type": "execute_result"
    }
   ],
   "source": [
    "df['Algorithm'].value_counts()"
   ]
  },
  {
   "cell_type": "code",
   "execution_count": 8,
   "metadata": {},
   "outputs": [
    {
     "data": {
      "text/plain": [
       "Residual_Power        0\n",
       "Application_Type      0\n",
       "Min_Security_Level    0\n",
       "Max_Stack_Usage       0\n",
       "Max_ROM               0\n",
       "Min_Throughput        0\n",
       "Algorithm             0\n",
       "dtype: int64"
      ]
     },
     "execution_count": 8,
     "metadata": {},
     "output_type": "execute_result"
    }
   ],
   "source": [
    "df.isnull().sum()"
   ]
  },
  {
   "cell_type": "code",
   "execution_count": 9,
   "metadata": {},
   "outputs": [],
   "source": [
    "df_new = pd.DataFrame()"
   ]
  },
  {
   "cell_type": "code",
   "execution_count": 10,
   "metadata": {},
   "outputs": [],
   "source": [
    "from numpy import random\n",
    "\n",
    "for row in df.itertuples():\n",
    "    end_energy = row.Residual_Power\n",
    "    end_throughput = row.Min_Throughput\n",
    "    begin_ram = row.Max_Stack_Usage\n",
    "    begin_rom = row.Max_ROM\n",
    "    for _ in range(100):\n",
    "        rand_energy = random.uniform(end_energy-10, end_energy)\n",
    "        rand_ram = random.uniform(begin_ram, begin_ram+100)\n",
    "        rand_rom = random.uniform(begin_rom, begin_rom+10)\n",
    "        rand_throughput = max(0, random.uniform(end_throughput - 100, end_throughput))\n",
    "        # random other variables?\n",
    "        new_row = {'Residual_Power':rand_energy,\n",
    "                   'Application_Type':row.Application_Type,\n",
    "                   'Min_Security_Level':row.Min_Security_Level,\n",
    "                   'Max_Stack_Usage':rand_ram,\n",
    "                   'Max_ROM':rand_rom,\n",
    "                   'Min_Throughput':rand_throughput,\n",
    "                   'Algorithm':row.Algorithm}\n",
    "        df_new = pd.concat([df_new, pd.DataFrame([new_row])], ignore_index=True)\n"
   ]
  },
  {
   "cell_type": "code",
   "execution_count": 11,
   "metadata": {},
   "outputs": [
    {
     "data": {
      "text/html": [
       "<div>\n",
       "<style scoped>\n",
       "    .dataframe tbody tr th:only-of-type {\n",
       "        vertical-align: middle;\n",
       "    }\n",
       "\n",
       "    .dataframe tbody tr th {\n",
       "        vertical-align: top;\n",
       "    }\n",
       "\n",
       "    .dataframe thead th {\n",
       "        text-align: right;\n",
       "    }\n",
       "</style>\n",
       "<table border=\"1\" class=\"dataframe\">\n",
       "  <thead>\n",
       "    <tr style=\"text-align: right;\">\n",
       "      <th></th>\n",
       "      <th>Residual_Power</th>\n",
       "      <th>Application_Type</th>\n",
       "      <th>Min_Security_Level</th>\n",
       "      <th>Max_Stack_Usage</th>\n",
       "      <th>Max_ROM</th>\n",
       "      <th>Min_Throughput</th>\n",
       "      <th>Algorithm</th>\n",
       "    </tr>\n",
       "  </thead>\n",
       "  <tbody>\n",
       "    <tr>\n",
       "      <th>0</th>\n",
       "      <td>90.181787</td>\n",
       "      <td>A</td>\n",
       "      <td>Low</td>\n",
       "      <td>356.391091</td>\n",
       "      <td>18.511200</td>\n",
       "      <td>0.000000</td>\n",
       "      <td>Xoodyak</td>\n",
       "    </tr>\n",
       "    <tr>\n",
       "      <th>1</th>\n",
       "      <td>99.422496</td>\n",
       "      <td>A</td>\n",
       "      <td>Low</td>\n",
       "      <td>376.612353</td>\n",
       "      <td>21.578226</td>\n",
       "      <td>5.743176</td>\n",
       "      <td>Xoodyak</td>\n",
       "    </tr>\n",
       "    <tr>\n",
       "      <th>2</th>\n",
       "      <td>99.674731</td>\n",
       "      <td>A</td>\n",
       "      <td>Low</td>\n",
       "      <td>345.565652</td>\n",
       "      <td>19.464219</td>\n",
       "      <td>4.016931</td>\n",
       "      <td>Xoodyak</td>\n",
       "    </tr>\n",
       "    <tr>\n",
       "      <th>3</th>\n",
       "      <td>91.211964</td>\n",
       "      <td>A</td>\n",
       "      <td>Low</td>\n",
       "      <td>393.360204</td>\n",
       "      <td>25.998813</td>\n",
       "      <td>0.000000</td>\n",
       "      <td>Xoodyak</td>\n",
       "    </tr>\n",
       "    <tr>\n",
       "      <th>4</th>\n",
       "      <td>90.758766</td>\n",
       "      <td>A</td>\n",
       "      <td>Low</td>\n",
       "      <td>313.780091</td>\n",
       "      <td>18.511006</td>\n",
       "      <td>0.000000</td>\n",
       "      <td>Xoodyak</td>\n",
       "    </tr>\n",
       "    <tr>\n",
       "      <th>...</th>\n",
       "      <td>...</td>\n",
       "      <td>...</td>\n",
       "      <td>...</td>\n",
       "      <td>...</td>\n",
       "      <td>...</td>\n",
       "      <td>...</td>\n",
       "      <td>...</td>\n",
       "    </tr>\n",
       "    <tr>\n",
       "      <th>26995</th>\n",
       "      <td>5.341801</td>\n",
       "      <td>AA</td>\n",
       "      <td>High</td>\n",
       "      <td>585.617935</td>\n",
       "      <td>43.662413</td>\n",
       "      <td>991.372208</td>\n",
       "      <td>ASCON</td>\n",
       "    </tr>\n",
       "    <tr>\n",
       "      <th>26996</th>\n",
       "      <td>9.380743</td>\n",
       "      <td>AA</td>\n",
       "      <td>High</td>\n",
       "      <td>572.362828</td>\n",
       "      <td>36.547140</td>\n",
       "      <td>947.900487</td>\n",
       "      <td>ASCON</td>\n",
       "    </tr>\n",
       "    <tr>\n",
       "      <th>26997</th>\n",
       "      <td>0.136103</td>\n",
       "      <td>AA</td>\n",
       "      <td>High</td>\n",
       "      <td>527.412772</td>\n",
       "      <td>40.265499</td>\n",
       "      <td>980.325450</td>\n",
       "      <td>ASCON</td>\n",
       "    </tr>\n",
       "    <tr>\n",
       "      <th>26998</th>\n",
       "      <td>0.259999</td>\n",
       "      <td>AA</td>\n",
       "      <td>High</td>\n",
       "      <td>570.307614</td>\n",
       "      <td>36.217835</td>\n",
       "      <td>998.230407</td>\n",
       "      <td>ASCON</td>\n",
       "    </tr>\n",
       "    <tr>\n",
       "      <th>26999</th>\n",
       "      <td>6.081071</td>\n",
       "      <td>AA</td>\n",
       "      <td>High</td>\n",
       "      <td>548.488531</td>\n",
       "      <td>41.423684</td>\n",
       "      <td>918.469619</td>\n",
       "      <td>ASCON</td>\n",
       "    </tr>\n",
       "  </tbody>\n",
       "</table>\n",
       "<p>27000 rows × 7 columns</p>\n",
       "</div>"
      ],
      "text/plain": [
       "       Residual_Power Application_Type Min_Security_Level  Max_Stack_Usage  \\\n",
       "0           90.181787               A                 Low       356.391091   \n",
       "1           99.422496               A                 Low       376.612353   \n",
       "2           99.674731               A                 Low       345.565652   \n",
       "3           91.211964               A                 Low       393.360204   \n",
       "4           90.758766               A                 Low       313.780091   \n",
       "...               ...              ...                ...              ...   \n",
       "26995        5.341801               AA               High       585.617935   \n",
       "26996        9.380743               AA               High       572.362828   \n",
       "26997        0.136103               AA               High       527.412772   \n",
       "26998        0.259999               AA               High       570.307614   \n",
       "26999        6.081071               AA               High       548.488531   \n",
       "\n",
       "         Max_ROM  Min_Throughput Algorithm  \n",
       "0      18.511200        0.000000   Xoodyak  \n",
       "1      21.578226        5.743176   Xoodyak  \n",
       "2      19.464219        4.016931   Xoodyak  \n",
       "3      25.998813        0.000000   Xoodyak  \n",
       "4      18.511006        0.000000   Xoodyak  \n",
       "...          ...             ...       ...  \n",
       "26995  43.662413      991.372208     ASCON  \n",
       "26996  36.547140      947.900487     ASCON  \n",
       "26997  40.265499      980.325450     ASCON  \n",
       "26998  36.217835      998.230407     ASCON  \n",
       "26999  41.423684      918.469619     ASCON  \n",
       "\n",
       "[27000 rows x 7 columns]"
      ]
     },
     "execution_count": 11,
     "metadata": {},
     "output_type": "execute_result"
    }
   ],
   "source": [
    "df_new"
   ]
  },
  {
   "cell_type": "code",
   "execution_count": 12,
   "metadata": {},
   "outputs": [],
   "source": [
    "df = pd.concat([df, df_new], ignore_index=True)"
   ]
  },
  {
   "cell_type": "code",
   "execution_count": 13,
   "metadata": {},
   "outputs": [
    {
     "data": {
      "text/plain": [
       "(27270, 7)"
      ]
     },
     "execution_count": 13,
     "metadata": {},
     "output_type": "execute_result"
    }
   ],
   "source": [
    "df.shape"
   ]
  },
  {
   "cell_type": "code",
   "execution_count": 14,
   "metadata": {},
   "outputs": [
    {
     "data": {
      "text/plain": [
       "Residual_Power        0\n",
       "Application_Type      0\n",
       "Min_Security_Level    0\n",
       "Max_Stack_Usage       0\n",
       "Max_ROM               0\n",
       "Min_Throughput        0\n",
       "Algorithm             0\n",
       "dtype: int64"
      ]
     },
     "execution_count": 14,
     "metadata": {},
     "output_type": "execute_result"
    }
   ],
   "source": [
    "df.isnull().sum()"
   ]
  },
  {
   "cell_type": "code",
   "execution_count": 15,
   "metadata": {},
   "outputs": [
    {
     "name": "stdout",
     "output_type": "stream",
     "text": [
      "None\n"
     ]
    }
   ],
   "source": [
    "print(df.to_csv(\"dataset_expanded.csv\", encoding='utf-8', index=False))"
   ]
  }
 ],
 "metadata": {
  "kernelspec": {
   "display_name": "Python 3",
   "language": "python",
   "name": "python3"
  },
  "language_info": {
   "codemirror_mode": {
    "name": "ipython",
    "version": 3
   },
   "file_extension": ".py",
   "mimetype": "text/x-python",
   "name": "python",
   "nbconvert_exporter": "python",
   "pygments_lexer": "ipython3",
   "version": "3.12.0"
  }
 },
 "nbformat": 4,
 "nbformat_minor": 2
}
