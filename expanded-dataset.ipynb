{
 "cells": [
  {
   "cell_type": "code",
   "execution_count": 1,
   "metadata": {},
   "outputs": [],
   "source": [
    "import numpy as np\n",
    "import pandas as pd\n",
    "import warnings\n",
    "warnings.filterwarnings(\"ignore\")"
   ]
  },
  {
   "cell_type": "code",
   "execution_count": 2,
   "metadata": {},
   "outputs": [],
   "source": [
    "data = './MiniDataset.csv'\n",
    "df = pd.read_csv(data, header=None)"
   ]
  },
  {
   "cell_type": "code",
   "execution_count": 3,
   "metadata": {},
   "outputs": [
    {
     "data": {
      "text/plain": [
       "(270, 7)"
      ]
     },
     "execution_count": 3,
     "metadata": {},
     "output_type": "execute_result"
    }
   ],
   "source": [
    "df.shape"
   ]
  },
  {
   "cell_type": "code",
   "execution_count": 4,
   "metadata": {},
   "outputs": [
    {
     "data": {
      "text/html": [
       "<div>\n",
       "<style scoped>\n",
       "    .dataframe tbody tr th:only-of-type {\n",
       "        vertical-align: middle;\n",
       "    }\n",
       "\n",
       "    .dataframe tbody tr th {\n",
       "        vertical-align: top;\n",
       "    }\n",
       "\n",
       "    .dataframe thead th {\n",
       "        text-align: right;\n",
       "    }\n",
       "</style>\n",
       "<table border=\"1\" class=\"dataframe\">\n",
       "  <thead>\n",
       "    <tr style=\"text-align: right;\">\n",
       "      <th></th>\n",
       "      <th>0</th>\n",
       "      <th>1</th>\n",
       "      <th>2</th>\n",
       "      <th>3</th>\n",
       "      <th>4</th>\n",
       "      <th>5</th>\n",
       "      <th>6</th>\n",
       "    </tr>\n",
       "  </thead>\n",
       "  <tbody>\n",
       "    <tr>\n",
       "      <th>0</th>\n",
       "      <td>100</td>\n",
       "      <td>A</td>\n",
       "      <td>L1</td>\n",
       "      <td>2100</td>\n",
       "      <td>4000</td>\n",
       "      <td>300000</td>\n",
       "      <td>Piccolo</td>\n",
       "    </tr>\n",
       "    <tr>\n",
       "      <th>1</th>\n",
       "      <td>90</td>\n",
       "      <td>A</td>\n",
       "      <td>L1</td>\n",
       "      <td>2100</td>\n",
       "      <td>4000</td>\n",
       "      <td>300000</td>\n",
       "      <td>Piccolo</td>\n",
       "    </tr>\n",
       "    <tr>\n",
       "      <th>2</th>\n",
       "      <td>80</td>\n",
       "      <td>A</td>\n",
       "      <td>L1</td>\n",
       "      <td>2100</td>\n",
       "      <td>4000</td>\n",
       "      <td>300000</td>\n",
       "      <td>Piccolo</td>\n",
       "    </tr>\n",
       "    <tr>\n",
       "      <th>3</th>\n",
       "      <td>70</td>\n",
       "      <td>A</td>\n",
       "      <td>L1</td>\n",
       "      <td>2100</td>\n",
       "      <td>4000</td>\n",
       "      <td>300000</td>\n",
       "      <td>Piccolo</td>\n",
       "    </tr>\n",
       "    <tr>\n",
       "      <th>4</th>\n",
       "      <td>60</td>\n",
       "      <td>A</td>\n",
       "      <td>L1</td>\n",
       "      <td>2100</td>\n",
       "      <td>4000</td>\n",
       "      <td>300000</td>\n",
       "      <td>Piccolo</td>\n",
       "    </tr>\n",
       "  </tbody>\n",
       "</table>\n",
       "</div>"
      ],
      "text/plain": [
       "     0   1   2     3     4       5        6\n",
       "0  100  A   L1  2100  4000  300000  Piccolo\n",
       "1   90   A  L1  2100  4000  300000  Piccolo\n",
       "2   80   A  L1  2100  4000  300000  Piccolo\n",
       "3   70   A  L1  2100  4000  300000  Piccolo\n",
       "4   60   A  L1  2100  4000  300000  Piccolo"
      ]
     },
     "execution_count": 4,
     "metadata": {},
     "output_type": "execute_result"
    }
   ],
   "source": [
    "df.head()"
   ]
  },
  {
   "cell_type": "code",
   "execution_count": 5,
   "metadata": {},
   "outputs": [
    {
     "data": {
      "text/html": [
       "<div>\n",
       "<style scoped>\n",
       "    .dataframe tbody tr th:only-of-type {\n",
       "        vertical-align: middle;\n",
       "    }\n",
       "\n",
       "    .dataframe tbody tr th {\n",
       "        vertical-align: top;\n",
       "    }\n",
       "\n",
       "    .dataframe thead th {\n",
       "        text-align: right;\n",
       "    }\n",
       "</style>\n",
       "<table border=\"1\" class=\"dataframe\">\n",
       "  <thead>\n",
       "    <tr style=\"text-align: right;\">\n",
       "      <th></th>\n",
       "      <th>Residual_Energy</th>\n",
       "      <th>Application_Type</th>\n",
       "      <th>Min_Security_Level</th>\n",
       "      <th>Max_RAM</th>\n",
       "      <th>Max_ROM</th>\n",
       "      <th>Min_Throughput</th>\n",
       "      <th>Algorithm</th>\n",
       "    </tr>\n",
       "  </thead>\n",
       "  <tbody>\n",
       "    <tr>\n",
       "      <th>0</th>\n",
       "      <td>100</td>\n",
       "      <td>A</td>\n",
       "      <td>L1</td>\n",
       "      <td>2100</td>\n",
       "      <td>4000</td>\n",
       "      <td>300000</td>\n",
       "      <td>Piccolo</td>\n",
       "    </tr>\n",
       "    <tr>\n",
       "      <th>1</th>\n",
       "      <td>90</td>\n",
       "      <td>A</td>\n",
       "      <td>L1</td>\n",
       "      <td>2100</td>\n",
       "      <td>4000</td>\n",
       "      <td>300000</td>\n",
       "      <td>Piccolo</td>\n",
       "    </tr>\n",
       "    <tr>\n",
       "      <th>2</th>\n",
       "      <td>80</td>\n",
       "      <td>A</td>\n",
       "      <td>L1</td>\n",
       "      <td>2100</td>\n",
       "      <td>4000</td>\n",
       "      <td>300000</td>\n",
       "      <td>Piccolo</td>\n",
       "    </tr>\n",
       "    <tr>\n",
       "      <th>3</th>\n",
       "      <td>70</td>\n",
       "      <td>A</td>\n",
       "      <td>L1</td>\n",
       "      <td>2100</td>\n",
       "      <td>4000</td>\n",
       "      <td>300000</td>\n",
       "      <td>Piccolo</td>\n",
       "    </tr>\n",
       "    <tr>\n",
       "      <th>4</th>\n",
       "      <td>60</td>\n",
       "      <td>A</td>\n",
       "      <td>L1</td>\n",
       "      <td>2100</td>\n",
       "      <td>4000</td>\n",
       "      <td>300000</td>\n",
       "      <td>Piccolo</td>\n",
       "    </tr>\n",
       "  </tbody>\n",
       "</table>\n",
       "</div>"
      ],
      "text/plain": [
       "   Residual_Energy Application_Type Min_Security_Level  Max_RAM  Max_ROM  \\\n",
       "0              100               A                  L1     2100     4000   \n",
       "1               90                A                 L1     2100     4000   \n",
       "2               80                A                 L1     2100     4000   \n",
       "3               70                A                 L1     2100     4000   \n",
       "4               60                A                 L1     2100     4000   \n",
       "\n",
       "   Min_Throughput Algorithm  \n",
       "0          300000   Piccolo  \n",
       "1          300000   Piccolo  \n",
       "2          300000   Piccolo  \n",
       "3          300000   Piccolo  \n",
       "4          300000   Piccolo  "
      ]
     },
     "execution_count": 5,
     "metadata": {},
     "output_type": "execute_result"
    }
   ],
   "source": [
    "col_names = ['Residual_Energy', 'Application_Type', 'Min_Security_Level', 'Max_RAM', 'Max_ROM', 'Min_Throughput', 'Algorithm']\n",
    "df.columns = col_names\n",
    "df.head()"
   ]
  },
  {
   "cell_type": "code",
   "execution_count": 6,
   "metadata": {},
   "outputs": [
    {
     "name": "stdout",
     "output_type": "stream",
     "text": [
      "Residual_Energy\n",
      "100    27\n",
      "90     27\n",
      "80     27\n",
      "70     27\n",
      "60     27\n",
      "50     27\n",
      "40     27\n",
      "30     27\n",
      "20     27\n",
      "10     27\n",
      "Name: count, dtype: int64\n",
      "Application_Type\n",
      "N     10\n",
      "O     10\n",
      "Z     10\n",
      "Y     10\n",
      "X     10\n",
      "W     10\n",
      "V     10\n",
      "U     10\n",
      "T     10\n",
      "S     10\n",
      "R     10\n",
      "Q     10\n",
      "P     10\n",
      "AA    10\n",
      "M     10\n",
      "L     10\n",
      "K     10\n",
      "J     10\n",
      "I     10\n",
      "H     10\n",
      "G     10\n",
      "F     10\n",
      "E     10\n",
      "D     10\n",
      "C     10\n",
      "B     10\n",
      "A      9\n",
      "A      1\n",
      "Name: count, dtype: int64\n",
      "Min_Security_Level\n",
      "L1    90\n",
      "L2    90\n",
      "L3    90\n",
      "Name: count, dtype: int64\n",
      "Max_RAM\n",
      "2100    90\n",
      "2200    90\n",
      "2500    90\n",
      "Name: count, dtype: int64\n",
      "Max_ROM\n",
      "4000    90\n",
      "5000    90\n",
      "7000    90\n",
      "Name: count, dtype: int64\n",
      "Min_Throughput\n",
      "300000     90\n",
      "500000     90\n",
      "2000000    90\n",
      "Name: count, dtype: int64\n",
      "Algorithm\n",
      "SIMON        70\n",
      "XTEA         70\n",
      "RECTANGLE    60\n",
      "Piccolo      30\n",
      "LBlock       25\n",
      "AES          10\n",
      "PRINCE        5\n",
      "Name: count, dtype: int64\n"
     ]
    }
   ],
   "source": [
    "for col in col_names:\n",
    "    print(df[col].value_counts())"
   ]
  },
  {
   "cell_type": "code",
   "execution_count": 7,
   "metadata": {},
   "outputs": [
    {
     "data": {
      "text/plain": [
       "Algorithm\n",
       "SIMON        70\n",
       "XTEA         70\n",
       "RECTANGLE    60\n",
       "Piccolo      30\n",
       "LBlock       25\n",
       "AES          10\n",
       "PRINCE        5\n",
       "Name: count, dtype: int64"
      ]
     },
     "execution_count": 7,
     "metadata": {},
     "output_type": "execute_result"
    }
   ],
   "source": [
    "df['Algorithm'].value_counts()"
   ]
  },
  {
   "cell_type": "code",
   "execution_count": 8,
   "metadata": {},
   "outputs": [
    {
     "data": {
      "text/plain": [
       "Residual_Energy       0\n",
       "Application_Type      0\n",
       "Min_Security_Level    0\n",
       "Max_RAM               0\n",
       "Max_ROM               0\n",
       "Min_Throughput        0\n",
       "Algorithm             0\n",
       "dtype: int64"
      ]
     },
     "execution_count": 8,
     "metadata": {},
     "output_type": "execute_result"
    }
   ],
   "source": [
    "df.isnull().sum()"
   ]
  },
  {
   "cell_type": "code",
   "execution_count": 9,
   "metadata": {},
   "outputs": [],
   "source": [
    "df_new = pd.DataFrame()"
   ]
  },
  {
   "cell_type": "code",
   "execution_count": 10,
   "metadata": {},
   "outputs": [],
   "source": [
    "from numpy import random\n",
    "\n",
    "for row in df.itertuples():\n",
    "    end = row.Residual_Energy\n",
    "    for _ in range(100):\n",
    "        rand_energy = random.uniform(end-10, end)\n",
    "        # random other variables?\n",
    "        new_row = {'Residual_Energy':rand_energy,\n",
    "                   'Application_Type':row.Application_Type,\n",
    "                   'Min_Security_Level':row.Min_Security_Level,\n",
    "                   'Max_RAM':row.Max_RAM,\n",
    "                   'Max_ROM':row.Max_ROM,\n",
    "                   'Min_Throughput':row.Min_Throughput,\n",
    "                   'Algorithm':row.Algorithm}\n",
    "        df_new = pd.concat([df_new, pd.DataFrame([new_row])], ignore_index=True)\n"
   ]
  },
  {
   "cell_type": "code",
   "execution_count": 11,
   "metadata": {},
   "outputs": [
    {
     "data": {
      "text/html": [
       "<div>\n",
       "<style scoped>\n",
       "    .dataframe tbody tr th:only-of-type {\n",
       "        vertical-align: middle;\n",
       "    }\n",
       "\n",
       "    .dataframe tbody tr th {\n",
       "        vertical-align: top;\n",
       "    }\n",
       "\n",
       "    .dataframe thead th {\n",
       "        text-align: right;\n",
       "    }\n",
       "</style>\n",
       "<table border=\"1\" class=\"dataframe\">\n",
       "  <thead>\n",
       "    <tr style=\"text-align: right;\">\n",
       "      <th></th>\n",
       "      <th>Residual_Energy</th>\n",
       "      <th>Application_Type</th>\n",
       "      <th>Min_Security_Level</th>\n",
       "      <th>Max_RAM</th>\n",
       "      <th>Max_ROM</th>\n",
       "      <th>Min_Throughput</th>\n",
       "      <th>Algorithm</th>\n",
       "    </tr>\n",
       "  </thead>\n",
       "  <tbody>\n",
       "    <tr>\n",
       "      <th>0</th>\n",
       "      <td>96.341509</td>\n",
       "      <td>A</td>\n",
       "      <td>L1</td>\n",
       "      <td>2100</td>\n",
       "      <td>4000</td>\n",
       "      <td>300000</td>\n",
       "      <td>Piccolo</td>\n",
       "    </tr>\n",
       "    <tr>\n",
       "      <th>1</th>\n",
       "      <td>94.542570</td>\n",
       "      <td>A</td>\n",
       "      <td>L1</td>\n",
       "      <td>2100</td>\n",
       "      <td>4000</td>\n",
       "      <td>300000</td>\n",
       "      <td>Piccolo</td>\n",
       "    </tr>\n",
       "    <tr>\n",
       "      <th>2</th>\n",
       "      <td>96.244813</td>\n",
       "      <td>A</td>\n",
       "      <td>L1</td>\n",
       "      <td>2100</td>\n",
       "      <td>4000</td>\n",
       "      <td>300000</td>\n",
       "      <td>Piccolo</td>\n",
       "    </tr>\n",
       "    <tr>\n",
       "      <th>3</th>\n",
       "      <td>93.260507</td>\n",
       "      <td>A</td>\n",
       "      <td>L1</td>\n",
       "      <td>2100</td>\n",
       "      <td>4000</td>\n",
       "      <td>300000</td>\n",
       "      <td>Piccolo</td>\n",
       "    </tr>\n",
       "    <tr>\n",
       "      <th>4</th>\n",
       "      <td>94.075292</td>\n",
       "      <td>A</td>\n",
       "      <td>L1</td>\n",
       "      <td>2100</td>\n",
       "      <td>4000</td>\n",
       "      <td>300000</td>\n",
       "      <td>Piccolo</td>\n",
       "    </tr>\n",
       "    <tr>\n",
       "      <th>...</th>\n",
       "      <td>...</td>\n",
       "      <td>...</td>\n",
       "      <td>...</td>\n",
       "      <td>...</td>\n",
       "      <td>...</td>\n",
       "      <td>...</td>\n",
       "      <td>...</td>\n",
       "    </tr>\n",
       "    <tr>\n",
       "      <th>26995</th>\n",
       "      <td>8.922153</td>\n",
       "      <td>AA</td>\n",
       "      <td>L3</td>\n",
       "      <td>2500</td>\n",
       "      <td>7000</td>\n",
       "      <td>2000000</td>\n",
       "      <td>RECTANGLE</td>\n",
       "    </tr>\n",
       "    <tr>\n",
       "      <th>26996</th>\n",
       "      <td>0.360557</td>\n",
       "      <td>AA</td>\n",
       "      <td>L3</td>\n",
       "      <td>2500</td>\n",
       "      <td>7000</td>\n",
       "      <td>2000000</td>\n",
       "      <td>RECTANGLE</td>\n",
       "    </tr>\n",
       "    <tr>\n",
       "      <th>26997</th>\n",
       "      <td>6.084445</td>\n",
       "      <td>AA</td>\n",
       "      <td>L3</td>\n",
       "      <td>2500</td>\n",
       "      <td>7000</td>\n",
       "      <td>2000000</td>\n",
       "      <td>RECTANGLE</td>\n",
       "    </tr>\n",
       "    <tr>\n",
       "      <th>26998</th>\n",
       "      <td>1.967165</td>\n",
       "      <td>AA</td>\n",
       "      <td>L3</td>\n",
       "      <td>2500</td>\n",
       "      <td>7000</td>\n",
       "      <td>2000000</td>\n",
       "      <td>RECTANGLE</td>\n",
       "    </tr>\n",
       "    <tr>\n",
       "      <th>26999</th>\n",
       "      <td>3.299470</td>\n",
       "      <td>AA</td>\n",
       "      <td>L3</td>\n",
       "      <td>2500</td>\n",
       "      <td>7000</td>\n",
       "      <td>2000000</td>\n",
       "      <td>RECTANGLE</td>\n",
       "    </tr>\n",
       "  </tbody>\n",
       "</table>\n",
       "<p>27000 rows × 7 columns</p>\n",
       "</div>"
      ],
      "text/plain": [
       "       Residual_Energy Application_Type Min_Security_Level  Max_RAM  Max_ROM  \\\n",
       "0            96.341509               A                  L1     2100     4000   \n",
       "1            94.542570               A                  L1     2100     4000   \n",
       "2            96.244813               A                  L1     2100     4000   \n",
       "3            93.260507               A                  L1     2100     4000   \n",
       "4            94.075292               A                  L1     2100     4000   \n",
       "...                ...              ...                ...      ...      ...   \n",
       "26995         8.922153               AA                 L3     2500     7000   \n",
       "26996         0.360557               AA                 L3     2500     7000   \n",
       "26997         6.084445               AA                 L3     2500     7000   \n",
       "26998         1.967165               AA                 L3     2500     7000   \n",
       "26999         3.299470               AA                 L3     2500     7000   \n",
       "\n",
       "       Min_Throughput  Algorithm  \n",
       "0              300000    Piccolo  \n",
       "1              300000    Piccolo  \n",
       "2              300000    Piccolo  \n",
       "3              300000    Piccolo  \n",
       "4              300000    Piccolo  \n",
       "...               ...        ...  \n",
       "26995         2000000  RECTANGLE  \n",
       "26996         2000000  RECTANGLE  \n",
       "26997         2000000  RECTANGLE  \n",
       "26998         2000000  RECTANGLE  \n",
       "26999         2000000  RECTANGLE  \n",
       "\n",
       "[27000 rows x 7 columns]"
      ]
     },
     "execution_count": 11,
     "metadata": {},
     "output_type": "execute_result"
    }
   ],
   "source": [
    "df_new"
   ]
  },
  {
   "cell_type": "code",
   "execution_count": 12,
   "metadata": {},
   "outputs": [],
   "source": [
    "df = pd.concat([df, df_new], ignore_index=True)"
   ]
  },
  {
   "cell_type": "code",
   "execution_count": 13,
   "metadata": {},
   "outputs": [
    {
     "data": {
      "text/plain": [
       "(27270, 7)"
      ]
     },
     "execution_count": 13,
     "metadata": {},
     "output_type": "execute_result"
    }
   ],
   "source": [
    "df.shape"
   ]
  },
  {
   "cell_type": "code",
   "execution_count": 14,
   "metadata": {},
   "outputs": [
    {
     "data": {
      "text/plain": [
       "Residual_Energy       0\n",
       "Application_Type      0\n",
       "Min_Security_Level    0\n",
       "Max_RAM               0\n",
       "Max_ROM               0\n",
       "Min_Throughput        0\n",
       "Algorithm             0\n",
       "dtype: int64"
      ]
     },
     "execution_count": 14,
     "metadata": {},
     "output_type": "execute_result"
    }
   ],
   "source": [
    "df.isnull().sum()"
   ]
  },
  {
   "cell_type": "code",
   "execution_count": 15,
   "metadata": {},
   "outputs": [
    {
     "name": "stdout",
     "output_type": "stream",
     "text": [
      "None\n"
     ]
    }
   ],
   "source": [
    "print(df.to_csv(\"dataset_expanded.csv\", encoding='utf-8', index=False))"
   ]
  }
 ],
 "metadata": {
  "kernelspec": {
   "display_name": "Python 3",
   "language": "python",
   "name": "python3"
  },
  "language_info": {
   "codemirror_mode": {
    "name": "ipython",
    "version": 3
   },
   "file_extension": ".py",
   "mimetype": "text/x-python",
   "name": "python",
   "nbconvert_exporter": "python",
   "pygments_lexer": "ipython3",
   "version": "3.12.0"
  }
 },
 "nbformat": 4,
 "nbformat_minor": 2
}
